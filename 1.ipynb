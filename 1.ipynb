{
 "cells": [
  {
   "cell_type": "code",
   "execution_count": 3,
   "metadata": {},
   "outputs": [
    {
     "name": "stdout",
     "output_type": "stream",
     "text": [
      "['ii2', '7ta', '9qy', 'aa1', '4sf', 'kz1', 'e4h', 'bo9', 'p8x', '0mn']\n"
     ]
    }
   ],
   "source": [
    "import random\n",
    "import string\n",
    "\n",
    "def generate_class_name():\n",
    "    # Choose two random letters\n",
    "    letters = random.choices(string.ascii_lowercase, k=2)\n",
    "    # Choose one random digit\n",
    "    digit = random.choice(string.digits)\n",
    "    # Randomly shuffle the letters and digit to create a 3-character name\n",
    "    class_name = letters + [digit]\n",
    "    random.shuffle(class_name)\n",
    "    return ''.join(class_name)\n",
    "\n",
    "# Generate a list of random class names\n",
    "class_names = [generate_class_name() for _ in range(10)]\n",
    "print(class_names)\n"
   ]
  }
 ],
 "metadata": {
  "kernelspec": {
   "display_name": "Python 3",
   "language": "python",
   "name": "python3"
  },
  "language_info": {
   "codemirror_mode": {
    "name": "ipython",
    "version": 3
   },
   "file_extension": ".py",
   "mimetype": "text/x-python",
   "name": "python",
   "nbconvert_exporter": "python",
   "pygments_lexer": "ipython3",
   "version": "3.12.4"
  }
 },
 "nbformat": 4,
 "nbformat_minor": 2
}
